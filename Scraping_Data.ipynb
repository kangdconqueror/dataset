{
  "nbformat": 4,
  "nbformat_minor": 0,
  "metadata": {
    "colab": {
      "provenance": []
    },
    "kernelspec": {
      "name": "python3",
      "display_name": "Python 3"
    },
    "language_info": {
      "name": "python"
    }
  },
  "cells": [
    {
      "cell_type": "markdown",
      "source": [
        "# **ANALISIS SENTIMEN PENGGUNA TERHADAP APLIKASI BRIMO BRI DI PLAY STORE**"
      ],
      "metadata": {
        "id": "DUMQ5u1ZnIMR"
      }
    },
    {
      "cell_type": "markdown",
      "source": [
        "## **Scraping Data**"
      ],
      "metadata": {
        "id": "2AONTWl1nzWZ"
      }
    },
    {
      "cell_type": "markdown",
      "source": [
        "### Instalasi Library"
      ],
      "metadata": {
        "id": "Bqr9MQcioJYW"
      }
    },
    {
      "cell_type": "code",
      "execution_count": 1,
      "metadata": {
        "colab": {
          "base_uri": "https://localhost:8080/"
        },
        "id": "c1nycIDbmHIm",
        "outputId": "d311924a-4cfc-4416-e34b-d2403c70c541"
      },
      "outputs": [
        {
          "output_type": "stream",
          "name": "stdout",
          "text": [
            "Collecting google-play-scraper\n",
            "  Downloading google_play_scraper-1.2.7-py3-none-any.whl (28 kB)\n",
            "Installing collected packages: google-play-scraper\n",
            "Successfully installed google-play-scraper-1.2.7\n"
          ]
        }
      ],
      "source": [
        "!pip install google-play-scraper"
      ]
    },
    {
      "cell_type": "markdown",
      "source": [
        "### Impor Library"
      ],
      "metadata": {
        "id": "LMIC1UzHsEWP"
      }
    },
    {
      "cell_type": "code",
      "source": [
        "from google_play_scraper import Sort, reviews_all\n",
        "import csv"
      ],
      "metadata": {
        "id": "pOWb-ZK4sIj7"
      },
      "execution_count": 2,
      "outputs": []
    },
    {
      "cell_type": "markdown",
      "source": [
        "### Scraping"
      ],
      "metadata": {
        "id": "4jeBTg6euI8Q"
      }
    },
    {
      "cell_type": "code",
      "source": [
        "# Mengambil semua ulasan\n",
        "scrapreview = reviews_all(\n",
        "    'id.co.bri.brimo',\n",
        "    lang='id',\n",
        "    country='id',\n",
        "    sort=Sort.MOST_RELEVANT\n",
        ")\n",
        "\n",
        "# Membatasi jumlah ulasan yang diambil sebanyak 150rb data\n",
        "scrapreview_limited = scrapreview[:150000]"
      ],
      "metadata": {
        "id": "xrdzN_YFsccb"
      },
      "execution_count": 3,
      "outputs": []
    },
    {
      "cell_type": "markdown",
      "source": [
        "### Simpan Dataset (.csv)"
      ],
      "metadata": {
        "id": "dmnk7dHRu069"
      }
    },
    {
      "cell_type": "code",
      "source": [
        "# Menulis ulasan ke file CSV dengan semua informasi\n",
        "with open('hasil_screeping_brimo.csv', mode='w', newline='', encoding='utf-8') as file:\n",
        "    writer = csv.writer(file)\n",
        "    # Menulis header CSV\n",
        "    writer.writerow(['content','score'])\n",
        "\n",
        "    # Menulis setiap ulasan ke dalam file CSV\n",
        "    for review in scrapreview_limited:\n",
        "        writer.writerow([\n",
        "            review['content'],\n",
        "            review.get('score', '')\n",
        "        ])\n",
        "\n",
        "print(\"Data telah disimpan ke hasil_screeping_brimo.csv\")"
      ],
      "metadata": {
        "id": "BOYZpXALu3j1",
        "colab": {
          "base_uri": "https://localhost:8080/"
        },
        "outputId": "70e64881-c7b4-4b49-af26-4bdfe3a80ee8"
      },
      "execution_count": 4,
      "outputs": [
        {
          "output_type": "stream",
          "name": "stdout",
          "text": [
            "Data telah disimpan ke hasil_screeping_brimo.csv\n"
          ]
        }
      ]
    }
  ]
}